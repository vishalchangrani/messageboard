{
 "cells": [
  {
   "cell_type": "code",
   "execution_count": 231,
   "metadata": {
    "collapsed": true
   },
   "outputs": [],
   "source": [
    "import numpy as np\n",
    "import pandas as pd\n",
    "import matplotlib.pyplot as plt\n",
    "import seaborn as sns"
   ]
  },
  {
   "cell_type": "code",
   "execution_count": 232,
   "metadata": {},
   "outputs": [
    {
     "name": "stdout",
     "output_type": "stream",
     "text": [
      "(11718, 10)\n"
     ]
    },
    {
     "data": {
      "text/html": [
       "<div>\n",
       "<style>\n",
       "    .dataframe thead tr:only-child th {\n",
       "        text-align: right;\n",
       "    }\n",
       "\n",
       "    .dataframe thead th {\n",
       "        text-align: left;\n",
       "    }\n",
       "\n",
       "    .dataframe tbody tr th {\n",
       "        vertical-align: top;\n",
       "    }\n",
       "</style>\n",
       "<table border=\"1\" class=\"dataframe\">\n",
       "  <thead>\n",
       "    <tr style=\"text-align: right;\">\n",
       "      <th></th>\n",
       "      <th>id</th>\n",
       "      <th>user_type</th>\n",
       "      <th>location</th>\n",
       "      <th>total_posts</th>\n",
       "      <th>posts_per_day</th>\n",
       "      <th>last_activity_date</th>\n",
       "      <th>last_activity_time</th>\n",
       "      <th>join_date</th>\n",
       "      <th>friendlist</th>\n",
       "      <th>url</th>\n",
       "    </tr>\n",
       "  </thead>\n",
       "  <tbody>\n",
       "    <tr>\n",
       "      <th>0</th>\n",
       "      <td>NaN</td>\n",
       "      <td>NaN</td>\n",
       "      <td>NaN</td>\n",
       "      <td>NaN</td>\n",
       "      <td>NaN</td>\n",
       "      <td>NaN</td>\n",
       "      <td>NaN</td>\n",
       "      <td>NaN</td>\n",
       "      <td>NaN</td>\n",
       "      <td>https://rennlist.com/forums/members/list/</td>\n",
       "    </tr>\n",
       "    <tr>\n",
       "      <th>1</th>\n",
       "      <td>1979928</td>\n",
       "      <td>Addict</td>\n",
       "      <td>Melbourne Australia</td>\n",
       "      <td>65</td>\n",
       "      <td>0.03</td>\n",
       "      <td>06-15-2019</td>\n",
       "      <td>03:29 AM</td>\n",
       "      <td>08-02-2012</td>\n",
       "      <td>Renix</td>\n",
       "      <td>https://rennlist.com/forums/members/120545-197...</td>\n",
       "    </tr>\n",
       "    <tr>\n",
       "      <th>2</th>\n",
       "      <td>1982928</td>\n",
       "      <td>Addict</td>\n",
       "      <td>guilford,ct.</td>\n",
       "      <td>1</td>\n",
       "      <td>0.00</td>\n",
       "      <td>09-13-2018</td>\n",
       "      <td>08:49 AM</td>\n",
       "      <td>07-04-2017</td>\n",
       "      <td>NaN</td>\n",
       "      <td>https://rennlist.com/forums/members/192730-198...</td>\n",
       "    </tr>\n",
       "    <tr>\n",
       "      <th>3</th>\n",
       "      <td>1940Woodie</td>\n",
       "      <td>Addict</td>\n",
       "      <td>US</td>\n",
       "      <td>26</td>\n",
       "      <td>0.06</td>\n",
       "      <td>Today</td>\n",
       "      <td>02:07 AM</td>\n",
       "      <td>03-19-2018</td>\n",
       "      <td>NaN</td>\n",
       "      <td>https://rennlist.com/forums/members/204349-194...</td>\n",
       "    </tr>\n",
       "    <tr>\n",
       "      <th>4</th>\n",
       "      <td>1963SWC</td>\n",
       "      <td>Addict</td>\n",
       "      <td>MS-USA</td>\n",
       "      <td>200</td>\n",
       "      <td>0.33</td>\n",
       "      <td>2</td>\n",
       "      <td>NaN</td>\n",
       "      <td>04-19-2019 01:05 AM</td>\n",
       "      <td>NaN</td>\n",
       "      <td>https://rennlist.com/forums/members/197752-196...</td>\n",
       "    </tr>\n",
       "  </tbody>\n",
       "</table>\n",
       "</div>"
      ],
      "text/plain": [
       "           id user_type             location total_posts posts_per_day  \\\n",
       "0         NaN       NaN                  NaN         NaN           NaN   \n",
       "1     1979928    Addict  Melbourne Australia          65          0.03   \n",
       "2     1982928    Addict         guilford,ct.           1          0.00   \n",
       "3  1940Woodie    Addict                   US          26          0.06   \n",
       "4     1963SWC    Addict               MS-USA         200          0.33   \n",
       "\n",
       "  last_activity_date last_activity_time            join_date friendlist  \\\n",
       "0                NaN                NaN                  NaN        NaN   \n",
       "1         06-15-2019           03:29 AM           08-02-2012      Renix   \n",
       "2         09-13-2018           08:49 AM           07-04-2017        NaN   \n",
       "3              Today           02:07 AM           03-19-2018        NaN   \n",
       "4                  2                NaN  04-19-2019 01:05 AM        NaN   \n",
       "\n",
       "                                                 url  \n",
       "0          https://rennlist.com/forums/members/list/  \n",
       "1  https://rennlist.com/forums/members/120545-197...  \n",
       "2  https://rennlist.com/forums/members/192730-198...  \n",
       "3  https://rennlist.com/forums/members/204349-194...  \n",
       "4  https://rennlist.com/forums/members/197752-196...  "
      ]
     },
     "execution_count": 232,
     "metadata": {},
     "output_type": "execute_result"
    }
   ],
   "source": [
    "users = pd.read_csv(\"users.csv\")\n",
    "print(users.shape)\n",
    "users.head()"
   ]
  },
  {
   "cell_type": "code",
   "execution_count": 233,
   "metadata": {},
   "outputs": [
    {
     "name": "stdout",
     "output_type": "stream",
     "text": [
      "(92167, 17)\n"
     ]
    },
    {
     "name": "stderr",
     "output_type": "stream",
     "text": [
      "C:\\Users\\vishal\\Anaconda3\\lib\\site-packages\\IPython\\core\\interactiveshell.py:2717: DtypeWarning: Columns (8) have mixed types. Specify dtype option on import or set low_memory=False.\n",
      "  interactivity=interactivity, compiler=compiler, result=result)\n"
     ]
    },
    {
     "data": {
      "text/html": [
       "<div>\n",
       "<style>\n",
       "    .dataframe thead tr:only-child th {\n",
       "        text-align: right;\n",
       "    }\n",
       "\n",
       "    .dataframe thead th {\n",
       "        text-align: left;\n",
       "    }\n",
       "\n",
       "    .dataframe tbody tr th {\n",
       "        vertical-align: top;\n",
       "    }\n",
       "</style>\n",
       "<table border=\"1\" class=\"dataframe\">\n",
       "  <thead>\n",
       "    <tr style=\"text-align: right;\">\n",
       "      <th></th>\n",
       "      <th>id</th>\n",
       "      <th>status</th>\n",
       "      <th>type</th>\n",
       "      <th>snippet</th>\n",
       "      <th>url</th>\n",
       "      <th>title</th>\n",
       "      <th>author_url</th>\n",
       "      <th>author</th>\n",
       "      <th>replies</th>\n",
       "      <th>views</th>\n",
       "      <th>rating</th>\n",
       "      <th>tags</th>\n",
       "      <th>attachments</th>\n",
       "      <th>last_reply_date</th>\n",
       "      <th>last_reply_time</th>\n",
       "      <th>last_reply_by</th>\n",
       "      <th>last_reply_by_url</th>\n",
       "    </tr>\n",
       "  </thead>\n",
       "  <tbody>\n",
       "    <tr>\n",
       "      <th>0</th>\n",
       "      <td>NaN</td>\n",
       "      <td>NaN</td>\n",
       "      <td>NaN</td>\n",
       "      <td>NaN</td>\n",
       "      <td>NaN</td>\n",
       "      <td>NaN</td>\n",
       "      <td>NaN</td>\n",
       "      <td>NaN</td>\n",
       "      <td>NaN</td>\n",
       "      <td>NaN</td>\n",
       "      <td>NaN</td>\n",
       "      <td>NaN</td>\n",
       "      <td>NaN</td>\n",
       "      <td>NaN</td>\n",
       "      <td>NaN</td>\n",
       "      <td>NaN</td>\n",
       "      <td>NaN</td>\n",
       "    </tr>\n",
       "    <tr>\n",
       "      <th>1</th>\n",
       "      <td>td_threadstatusicon_1143059</td>\n",
       "      <td>images/statusicon/thread_hot.gif</td>\n",
       "      <td>images/icons/icon1.gif</td>\n",
       "      <td>https://cimg3.ibsrv.net/gimg/rennlist.com-vbul...</td>\n",
       "      <td>https://rennlist.com/forums/993-forum/1143059-...</td>\n",
       "      <td>How do I fix this?</td>\n",
       "      <td>https://rennlist.com/forums/members/52557-nowa...</td>\n",
       "      <td>nowata</td>\n",
       "      <td>10</td>\n",
       "      <td>1,000</td>\n",
       "      <td>NaN</td>\n",
       "      <td>NaN</td>\n",
       "      <td>NaN</td>\n",
       "      <td>05-16-2019</td>\n",
       "      <td>01:02 AM</td>\n",
       "      <td>Sagres74</td>\n",
       "      <td>https://rennlist.com/forums/members/125722-sag...</td>\n",
       "    </tr>\n",
       "    <tr>\n",
       "      <th>2</th>\n",
       "      <td>td_threadstatusicon_784834</td>\n",
       "      <td>images/statusicon/thread_hot.gif</td>\n",
       "      <td>images/icons/icon1.gif</td>\n",
       "      <td>. \\nIntroducing new Rennlist site sponsor: FUN...</td>\n",
       "      <td>https://rennlist.com/forums/993-forum/784834-i...</td>\n",
       "      <td>Increase 993 chassis stability and enhance shi...</td>\n",
       "      <td>https://rennlist.com/forums/members/131384-fun...</td>\n",
       "      <td>Function-First</td>\n",
       "      <td>128</td>\n",
       "      <td>26,844</td>\n",
       "      <td>NaN</td>\n",
       "      <td>993, center, mount, transmission</td>\n",
       "      <td>2 Attachment(s)</td>\n",
       "      <td>05-15-2019</td>\n",
       "      <td>11:33 PM</td>\n",
       "      <td>hn</td>\n",
       "      <td>https://rennlist.com/forums/members/259-hn.html</td>\n",
       "    </tr>\n",
       "    <tr>\n",
       "      <th>3</th>\n",
       "      <td>td_threadstatusicon_1143176</td>\n",
       "      <td>images/statusicon/thread_hot_lock.gif</td>\n",
       "      <td>images/icons/icon1.gif</td>\n",
       "      <td>https://cimg7.ibsrv.net/gimg/rennlist.com-vbul...</td>\n",
       "      <td>https://rennlist.com/forums/993-forum/1143176-...</td>\n",
       "      <td>FS: RUF Rear Spoiler Module</td>\n",
       "      <td>https://rennlist.com/forums/members/20423-911c...</td>\n",
       "      <td>911CZ</td>\n",
       "      <td>4</td>\n",
       "      <td>688</td>\n",
       "      <td>NaN</td>\n",
       "      <td>NaN</td>\n",
       "      <td>NaN</td>\n",
       "      <td>05-15-2019</td>\n",
       "      <td>09:34 PM</td>\n",
       "      <td>993pbug</td>\n",
       "      <td>https://rennlist.com/forums/members/205211-993...</td>\n",
       "    </tr>\n",
       "    <tr>\n",
       "      <th>4</th>\n",
       "      <td>td_threadstatusicon_1142797</td>\n",
       "      <td>images/statusicon/thread_hot.gif</td>\n",
       "      <td>images/icons/icon1.gif</td>\n",
       "      <td>There is plenty of debate online around whethe...</td>\n",
       "      <td>https://rennlist.com/forums/993-forum/1142797-...</td>\n",
       "      <td>3.8 conversion/rebuild on my C2S</td>\n",
       "      <td>https://rennlist.com/forums/members/118611-air...</td>\n",
       "      <td>aircooledbug</td>\n",
       "      <td>10</td>\n",
       "      <td>1,374</td>\n",
       "      <td>NaN</td>\n",
       "      <td>NaN</td>\n",
       "      <td>NaN</td>\n",
       "      <td>05-15-2019</td>\n",
       "      <td>08:00 PM</td>\n",
       "      <td>Spyder_Man</td>\n",
       "      <td>https://rennlist.com/forums/members/142144-spy...</td>\n",
       "    </tr>\n",
       "  </tbody>\n",
       "</table>\n",
       "</div>"
      ],
      "text/plain": [
       "                            id                                 status  \\\n",
       "0                          NaN                                    NaN   \n",
       "1  td_threadstatusicon_1143059       images/statusicon/thread_hot.gif   \n",
       "2   td_threadstatusicon_784834       images/statusicon/thread_hot.gif   \n",
       "3  td_threadstatusicon_1143176  images/statusicon/thread_hot_lock.gif   \n",
       "4  td_threadstatusicon_1142797       images/statusicon/thread_hot.gif   \n",
       "\n",
       "                     type                                            snippet  \\\n",
       "0                     NaN                                                NaN   \n",
       "1  images/icons/icon1.gif  https://cimg3.ibsrv.net/gimg/rennlist.com-vbul...   \n",
       "2  images/icons/icon1.gif  . \\nIntroducing new Rennlist site sponsor: FUN...   \n",
       "3  images/icons/icon1.gif  https://cimg7.ibsrv.net/gimg/rennlist.com-vbul...   \n",
       "4  images/icons/icon1.gif  There is plenty of debate online around whethe...   \n",
       "\n",
       "                                                 url  \\\n",
       "0                                                NaN   \n",
       "1  https://rennlist.com/forums/993-forum/1143059-...   \n",
       "2  https://rennlist.com/forums/993-forum/784834-i...   \n",
       "3  https://rennlist.com/forums/993-forum/1143176-...   \n",
       "4  https://rennlist.com/forums/993-forum/1142797-...   \n",
       "\n",
       "                                               title  \\\n",
       "0                                                NaN   \n",
       "1                                 How do I fix this?   \n",
       "2  Increase 993 chassis stability and enhance shi...   \n",
       "3                        FS: RUF Rear Spoiler Module   \n",
       "4                   3.8 conversion/rebuild on my C2S   \n",
       "\n",
       "                                          author_url          author replies  \\\n",
       "0                                                NaN             NaN     NaN   \n",
       "1  https://rennlist.com/forums/members/52557-nowa...          nowata      10   \n",
       "2  https://rennlist.com/forums/members/131384-fun...  Function-First     128   \n",
       "3  https://rennlist.com/forums/members/20423-911c...           911CZ       4   \n",
       "4  https://rennlist.com/forums/members/118611-air...    aircooledbug      10   \n",
       "\n",
       "    views rating                              tags      attachments  \\\n",
       "0     NaN    NaN                               NaN              NaN   \n",
       "1   1,000    NaN                               NaN              NaN   \n",
       "2  26,844    NaN  993, center, mount, transmission  2 Attachment(s)   \n",
       "3     688    NaN                               NaN              NaN   \n",
       "4   1,374    NaN                               NaN              NaN   \n",
       "\n",
       "  last_reply_date last_reply_time last_reply_by  \\\n",
       "0             NaN             NaN           NaN   \n",
       "1      05-16-2019        01:02 AM      Sagres74   \n",
       "2      05-15-2019        11:33 PM            hn   \n",
       "3      05-15-2019        09:34 PM       993pbug   \n",
       "4      05-15-2019        08:00 PM    Spyder_Man   \n",
       "\n",
       "                                   last_reply_by_url  \n",
       "0                                                NaN  \n",
       "1  https://rennlist.com/forums/members/125722-sag...  \n",
       "2    https://rennlist.com/forums/members/259-hn.html  \n",
       "3  https://rennlist.com/forums/members/205211-993...  \n",
       "4  https://rennlist.com/forums/members/142144-spy...  "
      ]
     },
     "execution_count": 233,
     "metadata": {},
     "output_type": "execute_result"
    }
   ],
   "source": [
    "threads = pd.read_csv(\"threads.csv\")\n",
    "print(threads.shape)\n",
    "threads.head()"
   ]
  },
  {
   "cell_type": "code",
   "execution_count": 234,
   "metadata": {},
   "outputs": [
    {
     "data": {
      "text/plain": [
       "(89919, 17)"
      ]
     },
     "execution_count": 234,
     "metadata": {},
     "output_type": "execute_result"
    }
   ],
   "source": [
    "threads.dropna(axis = 0, subset = ['id'], inplace = True)\n",
    "threads.shape"
   ]
  },
  {
   "cell_type": "code",
   "execution_count": 235,
   "metadata": {},
   "outputs": [
    {
     "name": "stdout",
     "output_type": "stream",
     "text": [
      "(537189, 8)\n"
     ]
    },
    {
     "data": {
      "text/html": [
       "<div>\n",
       "<style>\n",
       "    .dataframe thead tr:only-child th {\n",
       "        text-align: right;\n",
       "    }\n",
       "\n",
       "    .dataframe thead th {\n",
       "        text-align: left;\n",
       "    }\n",
       "\n",
       "    .dataframe tbody tr th {\n",
       "        vertical-align: top;\n",
       "    }\n",
       "</style>\n",
       "<table border=\"1\" class=\"dataframe\">\n",
       "  <thead>\n",
       "    <tr style=\"text-align: right;\">\n",
       "      <th></th>\n",
       "      <th>id</th>\n",
       "      <th>date</th>\n",
       "      <th>order</th>\n",
       "      <th>author</th>\n",
       "      <th>author_url</th>\n",
       "      <th>messagecontent</th>\n",
       "      <th>thread_id</th>\n",
       "      <th>thread_url</th>\n",
       "    </tr>\n",
       "  </thead>\n",
       "  <tbody>\n",
       "    <tr>\n",
       "      <th>0</th>\n",
       "      <td>post15588998</td>\n",
       "      <td>01-24-2019, 02:43 AM</td>\n",
       "      <td>1.0</td>\n",
       "      <td>Churchill</td>\n",
       "      <td>https://rennlist.com/forums/members/170795-chu...</td>\n",
       "      <td>Great product, but now my high beams are too h...</td>\n",
       "      <td>td_threadstatusicon_1125778</td>\n",
       "      <td>https://rennlist.com/forums/993-forum/1125778-...</td>\n",
       "    </tr>\n",
       "    <tr>\n",
       "      <th>1</th>\n",
       "      <td>post15589386</td>\n",
       "      <td>01-24-2019, 10:34 AM</td>\n",
       "      <td>2.0</td>\n",
       "      <td>JB 911</td>\n",
       "      <td>https://rennlist.com/forums/members/94167-jb-9...</td>\n",
       "      <td>While it may not be ideal setup didn't a few w...</td>\n",
       "      <td>td_threadstatusicon_1125778</td>\n",
       "      <td>https://rennlist.com/forums/993-forum/1125778-...</td>\n",
       "    </tr>\n",
       "    <tr>\n",
       "      <th>2</th>\n",
       "      <td>post15590888</td>\n",
       "      <td>01-24-2019, 08:40 PM</td>\n",
       "      <td>3.0</td>\n",
       "      <td>Churchill</td>\n",
       "      <td>https://rennlist.com/forums/members/170795-chu...</td>\n",
       "      <td>The Morimoto's already allow the low beams to ...</td>\n",
       "      <td>td_threadstatusicon_1125778</td>\n",
       "      <td>https://rennlist.com/forums/993-forum/1125778-...</td>\n",
       "    </tr>\n",
       "    <tr>\n",
       "      <th>3</th>\n",
       "      <td>post15591091</td>\n",
       "      <td>01-24-2019, 10:12 PM</td>\n",
       "      <td>4.0</td>\n",
       "      <td>Chuck W.</td>\n",
       "      <td>https://rennlist.com/forums/members/15380-chuc...</td>\n",
       "      <td>I can't help with your issue, sorry.  But, if ...</td>\n",
       "      <td>td_threadstatusicon_1125778</td>\n",
       "      <td>https://rennlist.com/forums/993-forum/1125778-...</td>\n",
       "    </tr>\n",
       "    <tr>\n",
       "      <th>4</th>\n",
       "      <td>post15591783</td>\n",
       "      <td>01-25-2019, 09:44 AM</td>\n",
       "      <td>5.0</td>\n",
       "      <td>k722070</td>\n",
       "      <td>https://rennlist.com/forums/members/61897-k722...</td>\n",
       "      <td>maybe you have one of those orange spacers in ...</td>\n",
       "      <td>td_threadstatusicon_1125778</td>\n",
       "      <td>https://rennlist.com/forums/993-forum/1125778-...</td>\n",
       "    </tr>\n",
       "  </tbody>\n",
       "</table>\n",
       "</div>"
      ],
      "text/plain": [
       "             id                  date  order     author  \\\n",
       "0  post15588998  01-24-2019, 02:43 AM    1.0  Churchill   \n",
       "1  post15589386  01-24-2019, 10:34 AM    2.0     JB 911   \n",
       "2  post15590888  01-24-2019, 08:40 PM    3.0  Churchill   \n",
       "3  post15591091  01-24-2019, 10:12 PM    4.0   Chuck W.   \n",
       "4  post15591783  01-25-2019, 09:44 AM    5.0    k722070   \n",
       "\n",
       "                                          author_url  \\\n",
       "0  https://rennlist.com/forums/members/170795-chu...   \n",
       "1  https://rennlist.com/forums/members/94167-jb-9...   \n",
       "2  https://rennlist.com/forums/members/170795-chu...   \n",
       "3  https://rennlist.com/forums/members/15380-chuc...   \n",
       "4  https://rennlist.com/forums/members/61897-k722...   \n",
       "\n",
       "                                      messagecontent  \\\n",
       "0  Great product, but now my high beams are too h...   \n",
       "1  While it may not be ideal setup didn't a few w...   \n",
       "2  The Morimoto's already allow the low beams to ...   \n",
       "3  I can't help with your issue, sorry.  But, if ...   \n",
       "4  maybe you have one of those orange spacers in ...   \n",
       "\n",
       "                     thread_id  \\\n",
       "0  td_threadstatusicon_1125778   \n",
       "1  td_threadstatusicon_1125778   \n",
       "2  td_threadstatusicon_1125778   \n",
       "3  td_threadstatusicon_1125778   \n",
       "4  td_threadstatusicon_1125778   \n",
       "\n",
       "                                          thread_url  \n",
       "0  https://rennlist.com/forums/993-forum/1125778-...  \n",
       "1  https://rennlist.com/forums/993-forum/1125778-...  \n",
       "2  https://rennlist.com/forums/993-forum/1125778-...  \n",
       "3  https://rennlist.com/forums/993-forum/1125778-...  \n",
       "4  https://rennlist.com/forums/993-forum/1125778-...  "
      ]
     },
     "execution_count": 235,
     "metadata": {},
     "output_type": "execute_result"
    }
   ],
   "source": [
    "messages = pd.read_csv(\"messages.csv\")\n",
    "print(messages.shape)\n",
    "messages.head()"
   ]
  },
  {
   "cell_type": "code",
   "execution_count": 236,
   "metadata": {
    "collapsed": true
   },
   "outputs": [],
   "source": [
    "## clean up - Messages with no author or no messagecontent are of no value to us\n",
    "messages.dropna(axis = 0, subset = ['author'], inplace = True)"
   ]
  },
  {
   "cell_type": "code",
   "execution_count": 237,
   "metadata": {
    "collapsed": true
   },
   "outputs": [],
   "source": [
    "messages.dropna(axis = 0, subset = ['messagecontent'], inplace = True)"
   ]
  },
  {
   "cell_type": "code",
   "execution_count": 238,
   "metadata": {},
   "outputs": [
    {
     "data": {
      "text/plain": [
       "(450121, 8)"
      ]
     },
     "execution_count": 238,
     "metadata": {},
     "output_type": "execute_result"
    }
   ],
   "source": [
    "messages.shape"
   ]
  },
  {
   "cell_type": "code",
   "execution_count": 239,
   "metadata": {
    "collapsed": true
   },
   "outputs": [],
   "source": [
    "## Merge messages and threads with left join on messages\n",
    "messages2 = pd.merge(messages, threads, how='left', left_on=['thread_id'], right_on=['id'], suffixes=('', '_thread')).copy()"
   ]
  },
  {
   "cell_type": "code",
   "execution_count": 240,
   "metadata": {
    "collapsed": true
   },
   "outputs": [],
   "source": [
    "messages2.drop(['id_thread'], inplace=True, axis=1)"
   ]
  },
  {
   "cell_type": "code",
   "execution_count": 241,
   "metadata": {
    "collapsed": true
   },
   "outputs": [],
   "source": [
    "g = messages2.groupby(['thread_id'])"
   ]
  },
  {
   "cell_type": "code",
   "execution_count": 242,
   "metadata": {
    "collapsed": true
   },
   "outputs": [],
   "source": [
    "counts = g.size().reset_index(name='count')"
   ]
  },
  {
   "cell_type": "code",
   "execution_count": 243,
   "metadata": {},
   "outputs": [],
   "source": [
    "## Convert str column 'replies' to int\n",
    "messages2[\"replies\"] = messages2[\"replies\"].str.replace(',', '')\n",
    "messages2[\"replies\"] = pd.to_numeric(messages2[\"replies\"])"
   ]
  },
  {
   "cell_type": "markdown",
   "metadata": {},
   "source": [
    "Retain only complete threads for which we have all messages"
   ]
  },
  {
   "cell_type": "code",
   "execution_count": 244,
   "metadata": {
    "collapsed": true
   },
   "outputs": [],
   "source": [
    "messages2 = pd.merge(messages2, counts, how='left', left_on=['thread_id'], right_on=['thread_id'], suffixes=('', 'count'))"
   ]
  },
  {
   "cell_type": "code",
   "execution_count": 245,
   "metadata": {
    "collapsed": true
   },
   "outputs": [],
   "source": [
    "messages = messages2"
   ]
  },
  {
   "cell_type": "code",
   "execution_count": 246,
   "metadata": {
    "collapsed": true
   },
   "outputs": [],
   "source": [
    "messages2 = messages2[messages2['replies'] + 1 == messages2['count']]"
   ]
  },
  {
   "cell_type": "code",
   "execution_count": 247,
   "metadata": {},
   "outputs": [
    {
     "data": {
      "text/plain": [
       "(276124, 25)"
      ]
     },
     "execution_count": 247,
     "metadata": {},
     "output_type": "execute_result"
    }
   ],
   "source": [
    "messages2.shape"
   ]
  },
  {
   "cell_type": "code",
   "execution_count": 248,
   "metadata": {},
   "outputs": [
    {
     "data": {
      "text/plain": [
       "20669"
      ]
     },
     "execution_count": 248,
     "metadata": {},
     "output_type": "execute_result"
    }
   ],
   "source": [
    "len(messages2.thread_id.unique())"
   ]
  },
  {
   "cell_type": "code",
   "execution_count": 249,
   "metadata": {},
   "outputs": [],
   "source": [
    "g = messages2.groupby(['thread_id'])\n",
    "#g.describe()"
   ]
  },
  {
   "cell_type": "code",
   "execution_count": 250,
   "metadata": {
    "collapsed": true
   },
   "outputs": [],
   "source": [
    "## This helps retain only one entry per thread_id\n",
    "df = g.first().reset_index()"
   ]
  },
  {
   "cell_type": "code",
   "execution_count": 251,
   "metadata": {},
   "outputs": [
    {
     "data": {
      "text/plain": [
       "20669"
      ]
     },
     "execution_count": 251,
     "metadata": {},
     "output_type": "execute_result"
    }
   ],
   "source": [
    "len(df['thread_id'])"
   ]
  },
  {
   "cell_type": "markdown",
   "metadata": {},
   "source": [
    "<h2>Distribution of messages per thread to understand how long is a thread generally</h2>"
   ]
  },
  {
   "cell_type": "code",
   "execution_count": 252,
   "metadata": {},
   "outputs": [
    {
     "data": {
      "text/plain": [
       "<matplotlib.text.Text at 0x21a1694e048>"
      ]
     },
     "execution_count": 252,
     "metadata": {},
     "output_type": "execute_result"
    },
    {
     "data": {
      "image/png": "[encoded data removed]",
      "text/plain": [
       "<matplotlib.figure.Figure at 0x21a2d624978>"
      ]
     },
     "metadata": {},
     "output_type": "display_data"
    }
   ],
   "source": [
    "%matplotlib inline\n",
    "ax = df['count'].hist(bins=400, figsize=(10, 10))\n",
    "\n",
    "ax.set_xlabel(\"Messages per thread\")\n",
    "ax.set_ylabel(\"Frequency\")"
   ]
  },
  {
   "cell_type": "code",
   "execution_count": 253,
   "metadata": {},
   "outputs": [
    {
     "data": {
      "text/plain": [
       "<matplotlib.axes._subplots.AxesSubplot at 0x21a428e79e8>"
      ]
     },
     "execution_count": 253,
     "metadata": {},
     "output_type": "execute_result"
    },
    {
     "data": {
      "image/png": "[encoded data removed]",
      "text/plain": [
       "<matplotlib.figure.Figure at 0x21a857dbf98>"
      ]
     },
     "metadata": {},
     "output_type": "display_data"
    }
   ],
   "source": [
    "sns.distplot(df['count'])"
   ]
  },
  {
   "cell_type": "markdown",
   "metadata": {},
   "source": [
    "<h2>Find possible influencers (top x percentile)</h2>"
   ]
  },
  {
   "cell_type": "code",
   "execution_count": 254,
   "metadata": {
    "collapsed": true
   },
   "outputs": [],
   "source": [
    "g = messages2.groupby(['thread_id', 'author'])"
   ]
  },
  {
   "cell_type": "code",
   "execution_count": 255,
   "metadata": {},
   "outputs": [],
   "source": [
    "## This help remove more than one messages that may have been posted by the same user on a thread.\n",
    "## This is needed so that when we calculate how active a user it we dont double count the same author of the same thread\n",
    "df = g.first().reset_index()"
   ]
  },
  {
   "cell_type": "code",
   "execution_count": 256,
   "metadata": {},
   "outputs": [],
   "source": [
    "author_activity = df.groupby(['author'])['id'].agg(['count'])"
   ]
  },
  {
   "cell_type": "markdown",
   "metadata": {},
   "source": [
    "Only consider the 0.98 percentile of authors for finding the influencers since if the author is not active it is safe to assume he/she is not an influencer"
   ]
  },
  {
   "cell_type": "code",
   "execution_count": 257,
   "metadata": {},
   "outputs": [
    {
     "data": {
      "text/plain": [
       "271.1999999999989"
      ]
     },
     "execution_count": 257,
     "metadata": {},
     "output_type": "execute_result"
    }
   ],
   "source": [
    "author_activity['count'].quantile(0.98) # 99th percentile"
   ]
  },
  {
   "cell_type": "code",
   "execution_count": 258,
   "metadata": {},
   "outputs": [
    {
     "data": {
      "text/plain": [
       "141"
      ]
     },
     "execution_count": 258,
     "metadata": {},
     "output_type": "execute_result"
    }
   ],
   "source": [
    "## Number of possible influencers\n",
    "len(author_activity[author_activity['count'] >= author_activity['count'].quantile(0.98)])"
   ]
  },
  {
   "cell_type": "code",
   "execution_count": 259,
   "metadata": {},
   "outputs": [],
   "source": [
    "#bins = author_activity[author_activity['count'] > author_activity['count'].quantile(0.98)]['count'].sort_values().unique()"
   ]
  },
  {
   "cell_type": "code",
   "execution_count": 260,
   "metadata": {},
   "outputs": [
    {
     "data": {
      "text/plain": [
       "<matplotlib.text.Text at 0x21a1b88ce10>"
      ]
     },
     "execution_count": 260,
     "metadata": {},
     "output_type": "execute_result"
    },
    {
     "data": {
      "image/png": "[encoded data removed]",
      "text/plain": [
       "<matplotlib.figure.Figure at 0x21a1b835128>"
      ]
     },
     "metadata": {},
     "output_type": "display_data"
    }
   ],
   "source": [
    "sx = author_activity[author_activity['count'] > author_activity['count'].quantile(0.98)]['count'].hist(bins=10)\n",
    "sx.set_xlabel(\"# of Threads contributed to by 98 percentile authors\")\n",
    "sx.set_ylabel(\"Frequency\")"
   ]
  },
  {
   "cell_type": "code",
   "execution_count": 261,
   "metadata": {},
   "outputs": [],
   "source": [
    "possible_influencers = author_activity[author_activity['count'] >= author_activity['count'].quantile(0.98)].reset_index()"
   ]
  },
  {
   "cell_type": "code",
   "execution_count": 262,
   "metadata": {},
   "outputs": [
    {
     "data": {
      "text/plain": [
       "141"
      ]
     },
     "execution_count": 262,
     "metadata": {},
     "output_type": "execute_result"
    }
   ],
   "source": [
    "len(possible_influencers)"
   ]
  },
  {
   "cell_type": "markdown",
   "metadata": {},
   "source": [
    "<H2>TODO: Find references to possible influencers in messages </H2>"
   ]
  },
  {
   "cell_type": "code",
   "execution_count": 263,
   "metadata": {},
   "outputs": [],
   "source": [
    "all_authors = messages2.author.unique()"
   ]
  },
  {
   "cell_type": "code",
   "execution_count": 264,
   "metadata": {},
   "outputs": [
    {
     "data": {
      "text/plain": [
       "7046"
      ]
     },
     "execution_count": 264,
     "metadata": {},
     "output_type": "execute_result"
    }
   ],
   "source": [
    "len(all_authors)"
   ]
  },
  {
   "cell_type": "code",
   "execution_count": 265,
   "metadata": {},
   "outputs": [],
   "source": [
    "import re\n",
    "#messages2.messagecontent.str.contains('Yeah', flags=re.IGNORECASE)"
   ]
  },
  {
   "cell_type": "code",
   "execution_count": 266,
   "metadata": {},
   "outputs": [],
   "source": [
    "## giant pattern to find authors mentioned in message content\n",
    "safe_matches = [re.escape(a) for a in all_authors]\n",
    "pattern = '|'.join(safe_matches)\n",
    "#pattern"
   ]
  },
  {
   "cell_type": "code",
   "execution_count": null,
   "metadata": {},
   "outputs": [],
   "source": [
    "f  = messages2[messages2.messagecontent.str.contains(pattern)]"
   ]
  },
  {
   "cell_type": "code",
   "execution_count": null,
   "metadata": {},
   "outputs": [],
   "source": [
    "messages2.shape"
   ]
  },
  {
   "cell_type": "markdown",
   "metadata": {},
   "source": [
    "Message Content <b><i>may</b></i> contain references to other authors. Such references if successfully identified will help in identifiying influences. However, messages contain reference to the author himself and most importantly proper nouns such as 'Zimmerman' which may be tecnical term but is also a valid author name.\n",
    "Hence, for now I am skipping the search for references to author in message content"
   ]
  },
  {
   "cell_type": "code",
   "execution_count": null,
   "metadata": {},
   "outputs": [],
   "source": [
    "messagesdata = messages2.messagecontent"
   ]
  },
  {
   "cell_type": "code",
   "execution_count": null,
   "metadata": {},
   "outputs": [],
   "source": [
    "messagesdata[:5]"
   ]
  },
  {
   "cell_type": "markdown",
   "metadata": {},
   "source": [
    "<H2>Sentiment analysis of each message</H2>"
   ]
  },
  {
   "cell_type": "code",
   "execution_count": null,
   "metadata": {},
   "outputs": [],
   "source": [
    "!pip install vaderSentiment"
   ]
  },
  {
   "cell_type": "code",
   "execution_count": 268,
   "metadata": {
    "collapsed": true
   },
   "outputs": [],
   "source": [
    "from vaderSentiment.vaderSentiment import SentimentIntensityAnalyzer\n",
    "\n",
    "analyser = SentimentIntensityAnalyzer()"
   ]
  },
  {
   "cell_type": "code",
   "execution_count": 269,
   "metadata": {
    "collapsed": true
   },
   "outputs": [],
   "source": [
    "def print_sentiment_scores(sentence):\n",
    "    snt = analyser.polarity_scores(sentence)\n",
    "    print(\"{:-<40} {}\".format(sentence, str(snt)))\n",
    "    \n",
    "def collect_sentiment(sentence):\n",
    "    return analyser.polarity_scores(sentence)\n",
    "\n",
    "def get_compound_score(sentence):\n",
    "    return analyser.polarity_scores(sentence)['compound']"
   ]
  },
  {
   "cell_type": "code",
   "execution_count": 274,
   "metadata": {},
   "outputs": [
    {
     "name": "stderr",
     "output_type": "stream",
     "text": [
      "C:\\Users\\vishal\\Anaconda3\\lib\\site-packages\\ipykernel_launcher.py:2: SettingWithCopyWarning: \n",
      "A value is trying to be set on a copy of a slice from a DataFrame.\n",
      "Try using .loc[row_indexer,col_indexer] = value instead\n",
      "\n",
      "See the caveats in the documentation: http://pandas.pydata.org/pandas-docs/stable/indexing.html#indexing-view-versus-copy\n",
      "  \n"
     ]
    }
   ],
   "source": [
    "## Add new column for compound score of each message\n",
    "messages2['compound_score'] = df['messagecontent'].apply(get_compound_score)"
   ]
  },
  {
   "cell_type": "code",
   "execution_count": 282,
   "metadata": {},
   "outputs": [
    {
     "data": {
      "text/plain": [
       "18    0.2263\n",
       "19    0.5517\n",
       "20    0.0000\n",
       "Name: compound_score, dtype: float64"
      ]
     },
     "execution_count": 282,
     "metadata": {},
     "output_type": "execute_result"
    }
   ],
   "source": [
    "messages2['compound_score'].head(3)"
   ]
  },
  {
   "cell_type": "code",
   "execution_count": 297,
   "metadata": {},
   "outputs": [],
   "source": [
    "total_score  = messages2.groupby(['author'])['compound_score'].agg('sum')\n",
    "total_score = total_score.to_frame().reset_index()"
   ]
  },
  {
   "cell_type": "code",
   "execution_count": 305,
   "metadata": {},
   "outputs": [],
   "source": [
    "possible_influencers = pd.merge(possible_influencers, total_score, how='left', on='author')"
   ]
  },
  {
   "cell_type": "code",
   "execution_count": 308,
   "metadata": {},
   "outputs": [],
   "source": [
    "possible_influencers.sort_values(by=['compound_score'], ascending=False, inplace=True)"
   ]
  },
  {
   "cell_type": "markdown",
   "metadata": {},
   "source": [
    "<h2> And the top 5 influencers are....drum rolls...</h2>"
   ]
  },
  {
   "cell_type": "code",
   "execution_count": 313,
   "metadata": {},
   "outputs": [
    {
     "name": "stdout",
     "output_type": "stream",
     "text": [
      "['pp000830', 'nine9six', 'AOW162435', 'P-daddy', 'Foxman']\n"
     ]
    }
   ],
   "source": [
    "## Influencer is an active member with most positive posts with positive sentiment\n",
    "top_5 = list(possible_influencers.head(5)['author'])\n",
    "print(top_5)"
   ]
  },
  {
   "cell_type": "code",
   "execution_count": 316,
   "metadata": {},
   "outputs": [
    {
     "name": "stdout",
     "output_type": "stream",
     "text": [
      "https://rennlist.com/forums/members/34208-aow162435.html\n",
      "https://rennlist.com/forums/members/105626-nine9six.html\n",
      "https://rennlist.com/forums/members/90534-p-daddy.html\n",
      "https://rennlist.com/forums/members/151132-foxman.html\n"
     ]
    }
   ],
   "source": [
    "for u in users[users['id'].isin(top_5)]['url']:\n",
    "    print(u)"
   ]
  },
  {
   "cell_type": "code",
   "execution_count": 326,
   "metadata": {},
   "outputs": [
    {
     "name": "stdout",
     "output_type": "stream",
     "text": [
      "NC,\n",
      "That was my thought as well. I pursued that course and now it's all jam up and jelly tight!\n",
      "\n",
      "Thank you to all who responded and saw me through my mishap. You guys rock\n",
      "-------------------------------------------\n",
      "Clearly it is buyer beware when buying a 15 to 20 year old car. \n",
      "One can make an endless list of an inspection items but the key ones are:\n",
      "The car sits properly and has no evidence of major unibody collision work, only a body shop guy can rule this out.\n",
      "A recent clutch replacement\n",
      "The steering rack does not leak\n",
      "First and second gear shift smoothly  - synchros are new or are not worn.\n",
      "No OBDC issues present. The car can be checked for pending codes if the seller has recently cleared the fault memory to hide issues such as the secondary air injector clogging.\n",
      "The engine feels right and doesn't burn oil or leak to the point that it drips\n",
      "and the car handles correctly and the brakes feel good and do not pull.\n",
      "A key indicator of a car that has had a major collision is the body is not tight causing the tire body ringing sound when rolling over rough pavement to not be present or the steering feels dead.\n",
      " Andy\n",
      "-------------------------------------------\n",
      "Mike, thank you for the tips and offering to post info.  I'm planning on picking up a small torque wrench prob in in/lbs.  Is it 1 ft/lb = 12 in/lbs?  So 7 ft/lbs = 84 in/lbs correct?\n",
      "-------------------------------------------\n",
      "Sounds fantastic!!\n",
      "-------------------------------------------\n",
      "Add me to that list too!\n",
      "-------------------------------------------\n"
     ]
    }
   ],
   "source": [
    "#Sample messages\n",
    "for m in messages[messages['author'].isin(top_5)].sample(n=5)['messagecontent']:\n",
    "    print(m)\n",
    "    print(\"-------------------------------------------\")"
   ]
  }
 ],
 "metadata": {
  "kernelspec": {
   "display_name": "Python 3",
   "language": "python",
   "name": "python3"
  },
  "language_info": {
   "codemirror_mode": {
    "name": "ipython",
    "version": 3
   },
   "file_extension": ".py",
   "mimetype": "text/x-python",
   "name": "python",
   "nbconvert_exporter": "python",
   "pygments_lexer": "ipython3",
   "version": "3.6.1"
  }
 },
 "nbformat": 4,
 "nbformat_minor": 2
}
